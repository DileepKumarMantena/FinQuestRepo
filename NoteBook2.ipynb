{
 "cells": [
  {
   "cell_type": "code",
   "execution_count": 6,
   "id": "30ca8ace-f3ca-41da-b6c8-8a49d04065b3",
   "metadata": {},
   "outputs": [
    {
     "name": "stdout",
     "output_type": "stream",
     "text": [
      "                                    _id  company_id\n",
      "0  000d70af-d6ee-4550-8649-6849dd7f2b7b       88612\n",
      "1  000d70af-d6ee-4550-8649-6849dd7f2b7b       13633\n",
      "2  000d70af-d6ee-4550-8649-6849dd7f2b7b      206006\n",
      "3  000d70af-d6ee-4550-8649-6849dd7f2b7b      325551\n",
      "4  000d70af-d6ee-4550-8649-6849dd7f2b7b    15248183\n"
     ]
    }
   ],
   "source": [
    "import pandas as pd\n",
    "import os\n",
    "\n",
    "# Define paths to your CSV and JSON files\n",
    "main_csv_path = r'C:\\Users\\user\\Downloads\\Projects\\Mine\\Full_Stack_Development\\Python\\source_f_copy.csv'\n",
    "main_json_path = r'C:\\Users\\user\\Downloads\\Projects\\Mine\\Full_Stack_Development\\Python\\source_l_copy.json'\n",
    "\n",
    "# Verify that the files exist\n",
    "if not os.path.exists(main_csv_path):\n",
    "    raise FileNotFoundError(f\"CSV file not found at path: {main_csv_path}\")\n",
    "if not os.path.exists(main_json_path):\n",
    "    raise FileNotFoundError(f\"JSON file not found at path: {main_json_path}\")\n",
    "\n",
    "# Read and clean the CSV file\n",
    "def read_and_clean_csv(csv_path):\n",
    "    df = pd.read_csv(csv_path, delimiter=',')\n",
    "    df = df.dropna(subset=['YearOfCreation'])\n",
    "    df = df[df['YearOfCreation'] != '']\n",
    "    return df\n",
    "\n",
    "# Read and clean the JSON file\n",
    "def read_and_clean_json(json_path):\n",
    "    df = pd.read_json(json_path)\n",
    "    df = df.dropna(subset=['founded'])\n",
    "    return df\n",
    "\n",
    "# Merge the cleaned dataframes and return the result\n",
    "def merge_dataframes(csv_df, json_df):\n",
    "    merged_df = pd.merge(csv_df, json_df, how='inner', left_on='YearOfCreation', right_on='founded')\n",
    "    return merged_df[['_id', 'company_id']]\n",
    "\n",
    "# Save the result to a CSV file\n",
    "def save_to_csv(df, output_path):\n",
    "    df.to_csv(output_path, index=False)\n",
    "\n",
    "# Main function to execute the process\n",
    "def main():\n",
    "    # Read and clean data\n",
    "    csv_df = read_and_clean_csv(main_csv_path)\n",
    "    json_df = read_and_clean_json(main_json_path)\n",
    "\n",
    "    # Merge dataframes\n",
    "    result_df = merge_dataframes(csv_df, json_df)\n",
    "\n",
    "    # Define output path\n",
    "    output_csv_path = r'C:\\Users\\user\\Downloads\\Projects\\Mine\\Full_Stack_Development\\Python\\matching_results2.csv'\n",
    "\n",
    "    # Save the result to a CSV file\n",
    "    save_to_csv(result_df, output_csv_path)\n",
    "\n",
    "    # Optionally, read back the CSV to verify\n",
    "    output_df = pd.read_csv(output_csv_path)\n",
    "    print(output_df.head())\n",
    "\n",
    "# Execute the main function\n",
    "if __name__ == \"__main__\":\n",
    "    main()\n"
   ]
  },
  {
   "cell_type": "code",
   "execution_count": null,
   "id": "8816506c-4c70-434a-9338-f8e307ed35dc",
   "metadata": {},
   "outputs": [],
   "source": []
  },
  {
   "cell_type": "code",
   "execution_count": null,
   "id": "591e3f92-8460-4f63-916d-f09663fca9c1",
   "metadata": {},
   "outputs": [],
   "source": []
  }
 ],
 "metadata": {
  "kernelspec": {
   "display_name": "Python 3 (ipykernel)",
   "language": "python",
   "name": "python3"
  },
  "language_info": {
   "codemirror_mode": {
    "name": "ipython",
    "version": 3
   },
   "file_extension": ".py",
   "mimetype": "text/x-python",
   "name": "python",
   "nbconvert_exporter": "python",
   "pygments_lexer": "ipython3",
   "version": "3.12.4"
  }
 },
 "nbformat": 4,
 "nbformat_minor": 5
}
