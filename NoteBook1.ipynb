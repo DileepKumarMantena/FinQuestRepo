{
 "cells": [
  {
   "cell_type": "code",
   "execution_count": 13,
   "id": "c99805a8-d4ea-413e-a48a-8dd61d3c23e3",
   "metadata": {},
   "outputs": [],
   "source": [
    "import pandas as pd"
   ]
  },
  {
   "cell_type": "code",
   "execution_count": 14,
   "id": "5883fcef-2e7a-4260-9441-d6c4c4dbc788",
   "metadata": {},
   "outputs": [],
   "source": [
    "import os"
   ]
  },
  {
   "cell_type": "code",
   "execution_count": 15,
   "id": "c5d92888-443d-4e4a-8c5f-37ecb2d5beef",
   "metadata": {},
   "outputs": [],
   "source": [
    "# Set relative paths if files are in the same directory as your notebook\n",
    "\n",
    "main_csv_path = r'C:\\Users\\user\\Downloads\\Projects\\Mine\\Full_Stack_Development\\Python\\source_f_copy.csv'\n",
    "main_json_path = r'C:\\Users\\user\\Downloads\\Projects\\Mine\\Full_Stack_Development\\Python\\source_l_copy.json'"
   ]
  },
  {
   "cell_type": "code",
   "execution_count": 16,
   "id": "817cced3-6d0b-456a-881f-e70ae62dc9cc",
   "metadata": {},
   "outputs": [],
   "source": [
    "# Check if files exist\n",
    "if not os.path.exists(main_csv_path) or not os.path.exists(main_json_path):\n",
    "    raise FileNotFoundError(\"Files not found. Check the file paths.\")"
   ]
  },
  {
   "cell_type": "code",
   "execution_count": 17,
   "id": "1c2bc2a9-ec46-47df-b072-cfab789d0871",
   "metadata": {},
   "outputs": [],
   "source": [
    "# Read CSV and JSON files\n",
    "main_csv_df = pd.read_csv(main_csv_path, delimiter=',')  # Adjust delimiter if needed\n",
    "main_json_df = pd.read_json(main_json_path)"
   ]
  },
  {
   "cell_type": "code",
   "execution_count": 18,
   "id": "a7a255fa-9142-42d1-aef5-8ce9f2cb6333",
   "metadata": {},
   "outputs": [],
   "source": [
    "# Drop rows with empty values in CSV\n",
    "main_csv_df.dropna(subset=['YearOfCreation'], inplace=True)\n",
    "main_csv_df = main_csv_df[main_csv_df['YearOfCreation'] != '']"
   ]
  },
  {
   "cell_type": "code",
   "execution_count": 19,
   "id": "d2de7fc1-a60c-4f37-97ea-86a2cbe7974b",
   "metadata": {},
   "outputs": [],
   "source": [
    "# Drop rows with null values in JSON\n",
    "main_json_df.dropna(subset=['founded'], inplace=True)"
   ]
  },
  {
   "cell_type": "code",
   "execution_count": 20,
   "id": "470d0e36-45b2-4fd5-b8a6-c8beed31149c",
   "metadata": {},
   "outputs": [],
   "source": [
    "# Merge CSV and JSON dataframes\n",
    "merged_df = pd.merge(main_csv_df, main_json_df, how='inner', left_on='YearOfCreation', right_on='founded')"
   ]
  },
  {
   "cell_type": "code",
   "execution_count": 21,
   "id": "cbdd0e52-0dc5-4731-b37f-6b5c16c6e95e",
   "metadata": {},
   "outputs": [],
   "source": [
    "# Select columns of interest for the final result\n",
    "result_df = merged_df[['_id', 'company_id']]"
   ]
  },
  {
   "cell_type": "code",
   "execution_count": 22,
   "id": "e8978e52-b2db-4c79-b06d-5cbf6715b57c",
   "metadata": {},
   "outputs": [],
   "source": [
    "# Output to CSV\n",
    "output_csv_path = 'matching_results1.csv'\n",
    "result_df.to_csv(output_csv_path, index=False)"
   ]
  },
  {
   "cell_type": "code",
   "execution_count": 23,
   "id": "d5989312-8b70-4ccb-ab2b-9504ee4f05f5",
   "metadata": {},
   "outputs": [
    {
     "name": "stdout",
     "output_type": "stream",
     "text": [
      "                                    _id  company_id\n",
      "0  000d70af-d6ee-4550-8649-6849dd7f2b7b       88612\n",
      "1  000d70af-d6ee-4550-8649-6849dd7f2b7b       13633\n",
      "2  000d70af-d6ee-4550-8649-6849dd7f2b7b      206006\n",
      "3  000d70af-d6ee-4550-8649-6849dd7f2b7b      325551\n",
      "4  000d70af-d6ee-4550-8649-6849dd7f2b7b    15248183\n"
     ]
    }
   ],
   "source": [
    "# Optionally, read back the CSV to verify\n",
    "output_df = pd.read_csv(output_csv_path)\n",
    "print(output_df.head())"
   ]
  },
  {
   "cell_type": "code",
   "execution_count": null,
   "id": "d0f4d7fc-2411-4bc7-a4a2-e2a9382c81a3",
   "metadata": {},
   "outputs": [],
   "source": []
  }
 ],
 "metadata": {
  "kernelspec": {
   "display_name": "Python 3 (ipykernel)",
   "language": "python",
   "name": "python3"
  },
  "language_info": {
   "codemirror_mode": {
    "name": "ipython",
    "version": 3
   },
   "file_extension": ".py",
   "mimetype": "text/x-python",
   "name": "python",
   "nbconvert_exporter": "python",
   "pygments_lexer": "ipython3",
   "version": "3.12.4"
  }
 },
 "nbformat": 4,
 "nbformat_minor": 5
}
